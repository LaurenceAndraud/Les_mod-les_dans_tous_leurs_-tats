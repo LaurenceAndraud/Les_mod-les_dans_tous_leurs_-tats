{
 "cells": [
  {
   "cell_type": "markdown",
   "id": "01f41063",
   "metadata": {},
   "source": [
    "# Brief - Les modèles dans tous leurs états"
   ]
  },
  {
   "cell_type": "markdown",
   "id": "5bb7b92f",
   "metadata": {},
   "source": [
    "### Tutoriel 1 - Le dataset Hand written digits & le modèle SVM"
   ]
  },
  {
   "cell_type": "markdown",
   "id": "fdb9f4f5",
   "metadata": {},
   "source": [
    "Avec ce premier tutoriel, nous allons aborder un premier exemples de cas de machine learning. Il est d'abord nécessaire de connaître cette notion afin de pouvoir comprendre ce que nous allons faire. Pour cela, je peux vous conseiller de vous référer au cours commun \"C'est quoi l'IA ?\" réalisé par la P12 Développeur IA, partie 2 (p.8 à 12)"
   ]
  },
  {
   "cell_type": "markdown",
   "id": "af28aa16",
   "metadata": {},
   "source": [
    "Dans notre exemple, nous souhaitons reconnaître des chiffres (de 1 à 10) écrit à la main, à partir des images fournies par notre dataset."
   ]
  },
  {
   "cell_type": "markdown",
   "id": "c33aa6ff",
   "metadata": {},
   "source": [
    "###### Analyse du dataset"
   ]
  },
  {
   "cell_type": "markdown",
   "id": "3ee51c57",
   "metadata": {},
   "source": [
    "Dans un premier temps, nous allons importer les librairies nécessaires à ce tutoriel, et exécuter cette première cellule."
   ]
  },
  {
   "cell_type": "code",
   "execution_count": 36,
   "id": "6cf2f278",
   "metadata": {},
   "outputs": [],
   "source": [
    "# Import packages \n",
    "import numpy as np\n",
    "import matplotlib.pyplot as plt\n",
    "import sklearn\n",
    "from sklearn import svm\n",
    "from sklearn import datasets\n",
    "from sklearn import metrics\n",
    "from sklearn.model_selection import train_test_split\n",
    "from sklearn.ensemble import RandomForestClassifier\n",
    "from sklearn.inspection import DecisionBoundaryDisplay"
   ]
  },
  {
   "cell_type": "code",
   "execution_count": null,
   "id": "61450c1b",
   "metadata": {},
   "outputs": [],
   "source": [
    "# adapter, il doit s'agir d'un modèle de svm et pas random forest\n",
    "# il y a une ligne à changer visiblement"
   ]
  },
  {
   "cell_type": "markdown",
   "id": "e89614cd",
   "metadata": {},
   "source": [
    "Ici, nous avons nottamment besoin de numpy, afin de lire un array, matplotlib pour la visualisation et la librairie Scikit-learn, destinée à l'apprentissage automatique, et qui peut nous apporter beaucoup d'options."
   ]
  },
  {
   "cell_type": "markdown",
   "id": "e9ec32a0",
   "metadata": {},
   "source": [
    "Ensuite, nous avons besoin d'importer notre dataset avec la commande datasets.load"
   ]
  },
  {
   "cell_type": "code",
   "execution_count": 10,
   "id": "a8e23fcd",
   "metadata": {
    "scrolled": true
   },
   "outputs": [
    {
     "data": {
      "text/plain": [
       "{'data': array([[ 0.,  0.,  5., ...,  0.,  0.,  0.],\n",
       "        [ 0.,  0.,  0., ..., 10.,  0.,  0.],\n",
       "        [ 0.,  0.,  0., ..., 16.,  9.,  0.],\n",
       "        ...,\n",
       "        [ 0.,  0.,  1., ...,  6.,  0.,  0.],\n",
       "        [ 0.,  0.,  2., ..., 12.,  0.,  0.],\n",
       "        [ 0.,  0., 10., ..., 12.,  1.,  0.]]),\n",
       " 'target': array([0, 1, 2, ..., 8, 9, 8]),\n",
       " 'frame': None,\n",
       " 'feature_names': ['pixel_0_0',\n",
       "  'pixel_0_1',\n",
       "  'pixel_0_2',\n",
       "  'pixel_0_3',\n",
       "  'pixel_0_4',\n",
       "  'pixel_0_5',\n",
       "  'pixel_0_6',\n",
       "  'pixel_0_7',\n",
       "  'pixel_1_0',\n",
       "  'pixel_1_1',\n",
       "  'pixel_1_2',\n",
       "  'pixel_1_3',\n",
       "  'pixel_1_4',\n",
       "  'pixel_1_5',\n",
       "  'pixel_1_6',\n",
       "  'pixel_1_7',\n",
       "  'pixel_2_0',\n",
       "  'pixel_2_1',\n",
       "  'pixel_2_2',\n",
       "  'pixel_2_3',\n",
       "  'pixel_2_4',\n",
       "  'pixel_2_5',\n",
       "  'pixel_2_6',\n",
       "  'pixel_2_7',\n",
       "  'pixel_3_0',\n",
       "  'pixel_3_1',\n",
       "  'pixel_3_2',\n",
       "  'pixel_3_3',\n",
       "  'pixel_3_4',\n",
       "  'pixel_3_5',\n",
       "  'pixel_3_6',\n",
       "  'pixel_3_7',\n",
       "  'pixel_4_0',\n",
       "  'pixel_4_1',\n",
       "  'pixel_4_2',\n",
       "  'pixel_4_3',\n",
       "  'pixel_4_4',\n",
       "  'pixel_4_5',\n",
       "  'pixel_4_6',\n",
       "  'pixel_4_7',\n",
       "  'pixel_5_0',\n",
       "  'pixel_5_1',\n",
       "  'pixel_5_2',\n",
       "  'pixel_5_3',\n",
       "  'pixel_5_4',\n",
       "  'pixel_5_5',\n",
       "  'pixel_5_6',\n",
       "  'pixel_5_7',\n",
       "  'pixel_6_0',\n",
       "  'pixel_6_1',\n",
       "  'pixel_6_2',\n",
       "  'pixel_6_3',\n",
       "  'pixel_6_4',\n",
       "  'pixel_6_5',\n",
       "  'pixel_6_6',\n",
       "  'pixel_6_7',\n",
       "  'pixel_7_0',\n",
       "  'pixel_7_1',\n",
       "  'pixel_7_2',\n",
       "  'pixel_7_3',\n",
       "  'pixel_7_4',\n",
       "  'pixel_7_5',\n",
       "  'pixel_7_6',\n",
       "  'pixel_7_7'],\n",
       " 'target_names': array([0, 1, 2, 3, 4, 5, 6, 7, 8, 9]),\n",
       " 'images': array([[[ 0.,  0.,  5., ...,  1.,  0.,  0.],\n",
       "         [ 0.,  0., 13., ..., 15.,  5.,  0.],\n",
       "         [ 0.,  3., 15., ..., 11.,  8.,  0.],\n",
       "         ...,\n",
       "         [ 0.,  4., 11., ..., 12.,  7.,  0.],\n",
       "         [ 0.,  2., 14., ..., 12.,  0.,  0.],\n",
       "         [ 0.,  0.,  6., ...,  0.,  0.,  0.]],\n",
       " \n",
       "        [[ 0.,  0.,  0., ...,  5.,  0.,  0.],\n",
       "         [ 0.,  0.,  0., ...,  9.,  0.,  0.],\n",
       "         [ 0.,  0.,  3., ...,  6.,  0.,  0.],\n",
       "         ...,\n",
       "         [ 0.,  0.,  1., ...,  6.,  0.,  0.],\n",
       "         [ 0.,  0.,  1., ...,  6.,  0.,  0.],\n",
       "         [ 0.,  0.,  0., ..., 10.,  0.,  0.]],\n",
       " \n",
       "        [[ 0.,  0.,  0., ..., 12.,  0.,  0.],\n",
       "         [ 0.,  0.,  3., ..., 14.,  0.,  0.],\n",
       "         [ 0.,  0.,  8., ..., 16.,  0.,  0.],\n",
       "         ...,\n",
       "         [ 0.,  9., 16., ...,  0.,  0.,  0.],\n",
       "         [ 0.,  3., 13., ..., 11.,  5.,  0.],\n",
       "         [ 0.,  0.,  0., ..., 16.,  9.,  0.]],\n",
       " \n",
       "        ...,\n",
       " \n",
       "        [[ 0.,  0.,  1., ...,  1.,  0.,  0.],\n",
       "         [ 0.,  0., 13., ...,  2.,  1.,  0.],\n",
       "         [ 0.,  0., 16., ..., 16.,  5.,  0.],\n",
       "         ...,\n",
       "         [ 0.,  0., 16., ..., 15.,  0.,  0.],\n",
       "         [ 0.,  0., 15., ..., 16.,  0.,  0.],\n",
       "         [ 0.,  0.,  2., ...,  6.,  0.,  0.]],\n",
       " \n",
       "        [[ 0.,  0.,  2., ...,  0.,  0.,  0.],\n",
       "         [ 0.,  0., 14., ..., 15.,  1.,  0.],\n",
       "         [ 0.,  4., 16., ..., 16.,  7.,  0.],\n",
       "         ...,\n",
       "         [ 0.,  0.,  0., ..., 16.,  2.,  0.],\n",
       "         [ 0.,  0.,  4., ..., 16.,  2.,  0.],\n",
       "         [ 0.,  0.,  5., ..., 12.,  0.,  0.]],\n",
       " \n",
       "        [[ 0.,  0., 10., ...,  1.,  0.,  0.],\n",
       "         [ 0.,  2., 16., ...,  1.,  0.,  0.],\n",
       "         [ 0.,  0., 15., ..., 15.,  0.,  0.],\n",
       "         ...,\n",
       "         [ 0.,  4., 16., ..., 16.,  6.,  0.],\n",
       "         [ 0.,  8., 16., ..., 16.,  8.,  0.],\n",
       "         [ 0.,  1.,  8., ..., 12.,  1.,  0.]]]),\n",
       " 'DESCR': \".. _digits_dataset:\\n\\nOptical recognition of handwritten digits dataset\\n--------------------------------------------------\\n\\n**Data Set Characteristics:**\\n\\n    :Number of Instances: 1797\\n    :Number of Attributes: 64\\n    :Attribute Information: 8x8 image of integer pixels in the range 0..16.\\n    :Missing Attribute Values: None\\n    :Creator: E. Alpaydin (alpaydin '@' boun.edu.tr)\\n    :Date: July; 1998\\n\\nThis is a copy of the test set of the UCI ML hand-written digits datasets\\nhttps://archive.ics.uci.edu/ml/datasets/Optical+Recognition+of+Handwritten+Digits\\n\\nThe data set contains images of hand-written digits: 10 classes where\\neach class refers to a digit.\\n\\nPreprocessing programs made available by NIST were used to extract\\nnormalized bitmaps of handwritten digits from a preprinted form. From a\\ntotal of 43 people, 30 contributed to the training set and different 13\\nto the test set. 32x32 bitmaps are divided into nonoverlapping blocks of\\n4x4 and the number of on pixels are counted in each block. This generates\\nan input matrix of 8x8 where each element is an integer in the range\\n0..16. This reduces dimensionality and gives invariance to small\\ndistortions.\\n\\nFor info on NIST preprocessing routines, see M. D. Garris, J. L. Blue, G.\\nT. Candela, D. L. Dimmick, J. Geist, P. J. Grother, S. A. Janet, and C.\\nL. Wilson, NIST Form-Based Handprint Recognition System, NISTIR 5469,\\n1994.\\n\\n.. topic:: References\\n\\n  - C. Kaynak (1995) Methods of Combining Multiple Classifiers and Their\\n    Applications to Handwritten Digit Recognition, MSc Thesis, Institute of\\n    Graduate Studies in Science and Engineering, Bogazici University.\\n  - E. Alpaydin, C. Kaynak (1998) Cascading Classifiers, Kybernetika.\\n  - Ken Tang and Ponnuthurai N. Suganthan and Xi Yao and A. Kai Qin.\\n    Linear dimensionalityreduction using relevance weighted LDA. School of\\n    Electrical and Electronic Engineering Nanyang Technological University.\\n    2005.\\n  - Claudio Gentile. A New Approximate Maximal Margin Classification\\n    Algorithm. NIPS. 2000.\\n\"}"
      ]
     },
     "execution_count": 10,
     "metadata": {},
     "output_type": "execute_result"
    }
   ],
   "source": [
    "digits = sklearn.datasets.load_digits()\n",
    "digits"
   ]
  },
  {
   "cell_type": "markdown",
   "id": "34da6397",
   "metadata": {},
   "source": [
    "Nous pouvons aussi utiliser la commande .DESCR afin d'avoir la description de notre dataset."
   ]
  },
  {
   "cell_type": "code",
   "execution_count": 11,
   "id": "1bc8113f",
   "metadata": {
    "scrolled": true
   },
   "outputs": [
    {
     "data": {
      "text/plain": [
       "\".. _digits_dataset:\\n\\nOptical recognition of handwritten digits dataset\\n--------------------------------------------------\\n\\n**Data Set Characteristics:**\\n\\n    :Number of Instances: 1797\\n    :Number of Attributes: 64\\n    :Attribute Information: 8x8 image of integer pixels in the range 0..16.\\n    :Missing Attribute Values: None\\n    :Creator: E. Alpaydin (alpaydin '@' boun.edu.tr)\\n    :Date: July; 1998\\n\\nThis is a copy of the test set of the UCI ML hand-written digits datasets\\nhttps://archive.ics.uci.edu/ml/datasets/Optical+Recognition+of+Handwritten+Digits\\n\\nThe data set contains images of hand-written digits: 10 classes where\\neach class refers to a digit.\\n\\nPreprocessing programs made available by NIST were used to extract\\nnormalized bitmaps of handwritten digits from a preprinted form. From a\\ntotal of 43 people, 30 contributed to the training set and different 13\\nto the test set. 32x32 bitmaps are divided into nonoverlapping blocks of\\n4x4 and the number of on pixels are counted in each block. This generates\\nan input matrix of 8x8 where each element is an integer in the range\\n0..16. This reduces dimensionality and gives invariance to small\\ndistortions.\\n\\nFor info on NIST preprocessing routines, see M. D. Garris, J. L. Blue, G.\\nT. Candela, D. L. Dimmick, J. Geist, P. J. Grother, S. A. Janet, and C.\\nL. Wilson, NIST Form-Based Handprint Recognition System, NISTIR 5469,\\n1994.\\n\\n.. topic:: References\\n\\n  - C. Kaynak (1995) Methods of Combining Multiple Classifiers and Their\\n    Applications to Handwritten Digit Recognition, MSc Thesis, Institute of\\n    Graduate Studies in Science and Engineering, Bogazici University.\\n  - E. Alpaydin, C. Kaynak (1998) Cascading Classifiers, Kybernetika.\\n  - Ken Tang and Ponnuthurai N. Suganthan and Xi Yao and A. Kai Qin.\\n    Linear dimensionalityreduction using relevance weighted LDA. School of\\n    Electrical and Electronic Engineering Nanyang Technological University.\\n    2005.\\n  - Claudio Gentile. A New Approximate Maximal Margin Classification\\n    Algorithm. NIPS. 2000.\\n\""
      ]
     },
     "execution_count": 11,
     "metadata": {},
     "output_type": "execute_result"
    }
   ],
   "source": [
    "digits.DESCR"
   ]
  },
  {
   "cell_type": "markdown",
   "id": "048b8353",
   "metadata": {},
   "source": [
    "Dans le cadre de notre reconnaissance de chiffres écrits à la main, nous voyons qu'il y a 1797 exemples avec chacuns 8x8 pixels pour représenter ces chiffres."
   ]
  },
  {
   "cell_type": "markdown",
   "id": "3e2a101b",
   "metadata": {},
   "source": [
    "Si nous vérifions les attributs de notre dataset, voilà ce qui en ressort :"
   ]
  },
  {
   "cell_type": "code",
   "execution_count": 38,
   "id": "c12410e0",
   "metadata": {
    "scrolled": true
   },
   "outputs": [
    {
     "data": {
      "text/plain": [
       "(1797, 8, 8)"
      ]
     },
     "execution_count": 38,
     "metadata": {},
     "output_type": "execute_result"
    }
   ],
   "source": [
    "digits.images.shape"
   ]
  },
  {
   "cell_type": "markdown",
   "id": "1b7d1996",
   "metadata": {},
   "source": [
    "C'est un tableau à 3 dimensions, avec \n",
    "- le nbre d'images\n",
    "- les coordonnées x des pixels\n",
    "- les coordonnées y des pixels"
   ]
  },
  {
   "cell_type": "code",
   "execution_count": 39,
   "id": "e7c4d5f4",
   "metadata": {},
   "outputs": [
    {
     "data": {
      "text/plain": [
       "(1797,)"
      ]
     },
     "execution_count": 39,
     "metadata": {},
     "output_type": "execute_result"
    }
   ],
   "source": [
    "digits.target.shape"
   ]
  },
  {
   "cell_type": "code",
   "execution_count": 40,
   "id": "37629c45",
   "metadata": {
    "scrolled": true
   },
   "outputs": [
    {
     "data": {
      "text/plain": [
       "array([0, 1, 2, ..., 8, 9, 8])"
      ]
     },
     "execution_count": 40,
     "metadata": {},
     "output_type": "execute_result"
    }
   ],
   "source": [
    "digits.target"
   ]
  },
  {
   "cell_type": "markdown",
   "id": "02b0b58a",
   "metadata": {},
   "source": [
    "Nous pouvons faire un test en affichant les données pour la 3e image par exemple ..."
   ]
  },
  {
   "cell_type": "code",
   "execution_count": 48,
   "id": "e1c811f1",
   "metadata": {
    "scrolled": true
   },
   "outputs": [
    {
     "name": "stdout",
     "output_type": "stream",
     "text": [
      "[[ 0.  0.  0.  4. 15. 12.  0.  0.]\n",
      " [ 0.  0.  3. 16. 15. 14.  0.  0.]\n",
      " [ 0.  0.  8. 13.  8. 16.  0.  0.]\n",
      " [ 0.  0.  1.  6. 15. 11.  0.  0.]\n",
      " [ 0.  1.  8. 13. 15.  1.  0.  0.]\n",
      " [ 0.  9. 16. 16.  5.  0.  0.  0.]\n",
      " [ 0.  3. 13. 16. 16. 11.  5.  0.]\n",
      " [ 0.  0.  0.  3. 11. 16.  9.  0.]]\n"
     ]
    }
   ],
   "source": [
    "print(digits.images[2])"
   ]
  },
  {
   "cell_type": "markdown",
   "id": "d947dac0",
   "metadata": {},
   "source": [
    "Certaines valeurs sont grandes que d'autres, ce qui correspond à la quantité de \"noir\" dans un pixel. On peut déjà dessiner une forme à partir des valeurs les plus grandes, mais ici, nous allons utiliser la librairie matplotlib pour avoir un visuel plus adapté."
   ]
  },
  {
   "cell_type": "code",
   "execution_count": 50,
   "id": "63d08e1f",
   "metadata": {},
   "outputs": [
    {
     "data": {
      "text/plain": [
       "<matplotlib.image.AxesImage at 0x1d1bb0fd490>"
      ]
     },
     "execution_count": 50,
     "metadata": {},
     "output_type": "execute_result"
    },
    {
     "data": {
      "image/png": "[encoded data removed]",
      "text/plain": [
       "<Figure size 432x288 with 1 Axes>"
      ]
     },
     "metadata": {
      "needs_background": "light"
     },
     "output_type": "display_data"
    }
   ],
   "source": [
    "plt.imshow(digits.images[2],cmap='binary')"
   ]
  },
  {
   "cell_type": "markdown",
   "id": "e49bc72f",
   "metadata": {},
   "source": [
    "###### Apprentissage du modèle"
   ]
  },
  {
   "cell_type": "markdown",
   "id": "70504bd3",
   "metadata": {},
   "source": [
    "Dans la suite de ce tutoriel, nous allons mettre en place notre modèle en lui donnant des exemples afin de lui permettre de progresser.\n",
    "Ici, nous aurons besoin d'entrées (input layer) et de sorties (output layer). Ici nous allons vectoriser l'image : de passer d'un format 8x8 à 64 où une ligne désigne le taux de \"noir\"."
   ]
  },
  {
   "cell_type": "code",
   "execution_count": 79,
   "id": "e78d909f",
   "metadata": {},
   "outputs": [
    {
     "name": "stdout",
     "output_type": "stream",
     "text": [
      "Taille avant vectorisation : (1797, 8, 8)\n",
      "Taille après vectorisation : (1797, 64)\n"
     ]
    }
   ],
   "source": [
    "y = digits.target\n",
    "x = digits.images.reshape((len(digits.images), -1))\n",
    "x.shape\n",
    "\n",
    "print(\n",
    "    \"Taille avant vectorisation : {}\\nTaille après vectorisation : {}\"\n",
    "      .format(digits.images.shape, data.shape)\n",
    ")"
   ]
  },
  {
   "cell_type": "markdown",
   "id": "42665856",
   "metadata": {},
   "source": [
    "On divise la data en deux, entraînements et tests"
   ]
  },
  {
   "cell_type": "code",
   "execution_count": 92,
   "id": "08b02416",
   "metadata": {},
   "outputs": [],
   "source": [
    " # Split data with 70% to train and 30% to test\n",
    "X_train, X_test, y_train, y_test = train_test_split(\n",
    "    data, digits.target, test_size=0.3, shuffle=False\n",
    ")"
   ]
  },
  {
   "cell_type": "code",
   "execution_count": 93,
   "id": "69dd7d95",
   "metadata": {},
   "outputs": [],
   "source": [
    " # Create a random forest classifier\n",
    "clf = RandomForestClassifier(max_depth=2, random_state=0)\n",
    "\n",
    "# Learn the digits on the train subset\n",
    "clf.fit(X_train, y_train)\n",
    "\n",
    "# Predict the value of the digit on the test subset\n",
    "predicted = clf.predict(X_test)"
   ]
  },
  {
   "cell_type": "code",
   "execution_count": 99,
   "id": "ea2e586d",
   "metadata": {},
   "outputs": [
    {
     "data": {
      "image/png": "[encoded data removed]",
      "text/plain": [
       "<Figure size 720x216 with 5 Axes>"
      ]
     },
     "metadata": {
      "needs_background": "light"
     },
     "output_type": "display_data"
    }
   ],
   "source": [
    "# Plot some predictions\n",
    "fig, axes = plt.subplots(nrows=1, ncols=5, figsize=(10, 3))\n",
    "for ax, image, prediction in zip(axes, X_test, predicted):\n",
    "    ax.set_axis_off()\n",
    "    image = image.reshape(8, 8)\n",
    "    ax.imshow(image, cmap=plt.cm.gray_r, interpolation=\"nearest\")\n",
    "    ax.set_title(f\"Prediction: {prediction}\")"
   ]
  },
  {
   "cell_type": "code",
   "execution_count": 100,
   "id": "7c0e5984",
   "metadata": {},
   "outputs": [
    {
     "name": "stdout",
     "output_type": "stream",
     "text": [
      "Classification report for classifier RandomForestClassifier(max_depth=2, random_state=0):\n",
      "              precision    recall  f1-score   support\n",
      "\n",
      "           0       0.88      0.98      0.93        53\n",
      "           1       0.73      0.66      0.69        53\n",
      "           2       0.79      0.77      0.78        53\n",
      "           3       0.66      0.74      0.70        53\n",
      "           4       0.88      0.81      0.84        57\n",
      "           5       0.88      0.79      0.83        56\n",
      "           6       0.85      0.98      0.91        54\n",
      "           7       0.64      1.00      0.78        54\n",
      "           8       0.94      0.31      0.46        52\n",
      "           9       0.79      0.80      0.79        55\n",
      "\n",
      "    accuracy                           0.79       540\n",
      "   macro avg       0.80      0.78      0.77       540\n",
      "weighted avg       0.80      0.79      0.77       540\n",
      "\n",
      "\n"
     ]
    }
   ],
   "source": [
    "# Print the results on the test set for each class from 0 to 9\n",
    "print(\n",
    "    f\"Classification report for classifier {clf}:\\n\"\n",
    "    f\"{metrics.classification_report(y_test, predicted)}\\n\"\n",
    ")"
   ]
  },
  {
   "cell_type": "code",
   "execution_count": 101,
   "id": "81008508",
   "metadata": {},
   "outputs": [
    {
     "name": "stdout",
     "output_type": "stream",
     "text": [
      "Confusion matrix:\n",
      "[[52  0  0  0  1  0  0  0  0  0]\n",
      " [ 1 35  1  2  2  1  0  5  0  6]\n",
      " [ 1  0 41  9  0  0  0  2  0  0]\n",
      " [ 0  1  6 39  0  2  0  4  1  0]\n",
      " [ 3  0  0  0 46  0  4  4  0  0]\n",
      " [ 0  0  0  1  2 44  5  1  0  3]\n",
      " [ 0  0  1  0  0  0 53  0  0  0]\n",
      " [ 0  0  0  0  0  0  0 54  0  0]\n",
      " [ 0 12  3  6  1  2  0  9 16  3]\n",
      " [ 2  0  0  2  0  1  0  6  0 44]]\n"
     ]
    },
    {
     "data": {
      "image/png": "[encoded data removed]",
      "text/plain": [
       "<Figure size 432x288 with 2 Axes>"
      ]
     },
     "metadata": {
      "needs_background": "light"
     },
     "output_type": "display_data"
    }
   ],
   "source": [
    "# Plot the confusion matrix\n",
    "disp = metrics.ConfusionMatrixDisplay.from_predictions(y_test, predicted)\n",
    "disp.figure_.suptitle(\"Confusion Matrix\")\n",
    "print(f\"Confusion matrix:\\n{disp.confusion_matrix}\")"
   ]
  },
  {
   "cell_type": "code",
   "execution_count": null,
   "id": "1adcd12c",
   "metadata": {},
   "outputs": [],
   "source": []
  }
 ],
 "metadata": {
  "kernelspec": {
   "display_name": "Python 3 (ipykernel)",
   "language": "python",
   "name": "python3"
  },
  "language_info": {
   "codemirror_mode": {
    "name": "ipython",
    "version": 3
   },
   "file_extension": ".py",
   "mimetype": "text/x-python",
   "name": "python",
   "nbconvert_exporter": "python",
   "pygments_lexer": "ipython3",
   "version": "3.9.12"
  }
 },
 "nbformat": 4,
 "nbformat_minor": 5
}
